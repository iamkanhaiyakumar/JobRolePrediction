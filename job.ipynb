{
 "cells": [
  {
   "cell_type": "code",
   "execution_count": 1,
   "id": "bcce5f74",
   "metadata": {},
   "outputs": [
    {
     "name": "stdout",
     "output_type": "stream",
     "text": [
      "(500, 9)\n",
      "   Degree             Major  CGPA Employed  Experience  \\\n",
      "0     MBA        Mechanical  6.06      yes           7   \n",
      "1  B.Tech        Mechanical  7.21      yes           5   \n",
      "2     MBA         Economics  6.66       no           7   \n",
      "3     MBA           Finance  6.95       no           9   \n",
      "4  M.Tech  Computer Science  7.15       no           4   \n",
      "\n",
      "                                              Skills  \\\n",
      "0                         SolidWorks, Thermodynamics   \n",
      "1        Thermodynamics, MATLAB, AutoCAD, SolidWorks   \n",
      "2  Data Analysis, R, Econometrics, Python, Statis...   \n",
      "3           Financial Modeling, Excel, Risk Analysis   \n",
      "4                Java, Machine Learning, Python, C++   \n",
      "\n",
      "             Certifications Industry Preference                Job Role  \n",
      "0  Data Science Certificate             Finance         Design Engineer  \n",
      "1                       NaN            Research  Manufacturing Engineer  \n",
      "2                       PMP                  IT        Business Analyst  \n",
      "3                 Six Sigma       Manufacturing       Investment Banker  \n",
      "4  Data Science Certificate       Manufacturing       Backend Developer  \n"
     ]
    }
   ],
   "source": [
    "import pandas as pd\n",
    "df = pd.read_csv(\"backend/data/training_data.csv\")\n",
    "print(df.shape)\n",
    "print(df.head())\n"
   ]
  }
 ],
 "metadata": {
  "kernelspec": {
   "display_name": "Python 3",
   "language": "python",
   "name": "python3"
  },
  "language_info": {
   "codemirror_mode": {
    "name": "ipython",
    "version": 3
   },
   "file_extension": ".py",
   "mimetype": "text/x-python",
   "name": "python",
   "nbconvert_exporter": "python",
   "pygments_lexer": "ipython3",
   "version": "3.12.7"
  }
 },
 "nbformat": 4,
 "nbformat_minor": 5
}
